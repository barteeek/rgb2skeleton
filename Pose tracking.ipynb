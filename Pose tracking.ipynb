{
 "cells": [
  {
   "cell_type": "code",
   "execution_count": 147,
   "metadata": {
    "collapsed": true
   },
   "outputs": [],
   "source": [
    "from __future__ import print_function, division\n",
    "import torch"
   ]
  },
  {
   "cell_type": "markdown",
   "metadata": {},
   "source": [
    "# Utils"
   ]
  },
  {
   "cell_type": "code",
   "execution_count": 148,
   "metadata": {
    "collapsed": true
   },
   "outputs": [],
   "source": [
    "%matplotlib inline\n",
    "\n",
    "import matplotlib.pyplot as plt\n",
    "import cv2\n",
    "\n",
    "def show_image(img):\n",
    "    plt.imshow(cv2.cvtColor(img, cv2.COLOR_BGR2RGB))"
   ]
  },
  {
   "cell_type": "markdown",
   "metadata": {},
   "source": [
    "# Dataset"
   ]
  },
  {
   "cell_type": "code",
   "execution_count": 334,
   "metadata": {
    "collapsed": true
   },
   "outputs": [],
   "source": [
    "from os import listdir\n",
    "\n",
    "import scipy.io\n",
    "\n",
    "from torch.utils.data.dataset import Dataset\n",
    "\n",
    "\n",
    "joint_to_name = {0:'r ankle', \n",
    "                 1:'r knee',\n",
    "                 2:'r hip',\n",
    "                 3:'l hip', \n",
    "                 4:'l knee',\n",
    "                 5:'l ankle',\n",
    "                 6:'pelvis', \n",
    "                 7:'thorax',\n",
    "                 8:'upper neck',\n",
    "                 9:'head top',\n",
    "                 10:'r wrist',\n",
    "                 11:'r elbow',\n",
    "                 12:'r shoulder',\n",
    "                 13:'l shoulder',\n",
    "                 14:'l elbow',\n",
    "                 15:'l wrist'}\n",
    "\n",
    "def onePersonToDict(p, joint_id_to_name):\n",
    "    res = {}\n",
    "    if hasattr(p, 'x1'):\n",
    "        res['head_rect'] = (p.x1, p.y1, p.x2, p.y2)\n",
    "    if hasattr(p, 'scale'):\n",
    "        res['scale'] = p.scale\n",
    "    if hasattr(p, 'objpos') and hasattr(p.objpos, 'x'):\n",
    "        res['position'] = (p.objpos.x, p.objpos.y)\n",
    "\n",
    "    try:\n",
    "        for joint in p.annopoints.point if hasattr(p, 'annopoints') and hasattr(p.annopoints, 'point') else []:\n",
    "            if not isinstance(joint.is_visible, np.ndarray):\n",
    "                res[joint_id_to_name[joint.id]] = (joint.x, joint.y, True if joint.is_visible == u'1' else False)\n",
    "            else:\n",
    "                res[joint_id_to_name[joint.id]] = (joint.x, joint.y, True)\n",
    "    except TypeError:\n",
    "        pass\n",
    "        \n",
    "    return res\n",
    "\n",
    "def transformMatlabToList(matlab):\n",
    "    img_anno_transformed = []\n",
    "    for i in range(matlab.shape[0]):\n",
    "        img_anno = matlab[i]\n",
    "        people_anno = []\n",
    "        if isinstance(img_anno.annorect, np.ndarray):\n",
    "            for j in range(img_anno.annorect.shape[0]):\n",
    "                people_anno += [onePersonToDict(img_anno.annorect[j], joint_to_name)]\n",
    "        else:\n",
    "            people_anno = [onePersonToDict(img_anno.annorect, joint_to_name)]\n",
    "        img_anno_transformed += [(img_anno.image.name, people_anno)]\n",
    "        \n",
    "    return img_anno_transformed\n",
    "\n",
    "\n",
    "class MpiiHumanPoseDataset(Dataset):\n",
    "    def __init__(self, imgs_path, annotations_path):\n",
    "        self.img_base_path = imgs_path\n",
    "        self.images_names = listdir(imgs_path)\n",
    "        self.images_num = len(self.images_names)\n",
    "        self.annotations = \\\n",
    "            transformMatlabToList(scipy.io.loadmat(annotations_path, struct_as_record=False, squeeze_me=True)[\"RELEASE\"].annolist)\n",
    "        \n",
    "        self.file_name_to_anno_id = {}\n",
    "        for i in range(len(self.annotations)):\n",
    "            self.file_name_to_anno_id[self.annotations[i][0]] = i\n",
    "        \n",
    "    def __len__(self):\n",
    "        return self.images_num\n",
    "    \n",
    "    def __getitem__(self, index):\n",
    "        img_path = self.img_base_path + '/' + self.images_names[index]\n",
    "        img = torch.IntTensor(cv2.imread(img_path))\n",
    "        anno_data = self.annotations[self.file_name_to_anno_id[self.images_names[index]]]\n",
    "        return img, anno_data"
   ]
  },
  {
   "cell_type": "markdown",
   "metadata": {},
   "source": [
    "# Model"
   ]
  },
  {
   "cell_type": "code",
   "execution_count": 335,
   "metadata": {
    "collapsed": true
   },
   "outputs": [],
   "source": [
    "import torch.nn as nn\n",
    "\n",
    "class PoseFittingNetwork(nn.Module):\n",
    "    def __init__(self):\n",
    "        super(PoseFittingNetwork, self).__init__()\n",
    "        self.conv1 = nn.Conv2d(1, 10, kernel_size=5)\n",
    "    \n",
    "    def forward(self, input):\n",
    "        return input"
   ]
  },
  {
   "cell_type": "markdown",
   "metadata": {},
   "source": [
    "# Training"
   ]
  },
  {
   "cell_type": "code",
   "execution_count": 336,
   "metadata": {
    "collapsed": true
   },
   "outputs": [],
   "source": [
    "def train(network, optimizer, data_loader, num_epoch, loss_fun, log_interval):\n",
    "    for epoch in range(num_epoch):\n",
    "        for batch_idx, data in enumerate(data_loader):\n",
    "            img, annotations = data\n",
    "            \n",
    "            optimizer.zero_grad()\n",
    "            output = network(img)\n",
    "            loss = loss_fun(output, annotations)\n",
    "            loss.backward()\n",
    "            optimizer.step()\n",
    "            \n",
    "            if batch_idx % log_interval == 0:\n",
    "                print(batch_idx)    "
   ]
  },
  {
   "cell_type": "markdown",
   "metadata": {},
   "source": [
    "# Main"
   ]
  },
  {
   "cell_type": "code",
   "execution_count": 337,
   "metadata": {},
   "outputs": [
    {
     "ename": "RuntimeError",
     "evalue": "element 0 of tensors does not require grad and does not have a grad_fn",
     "output_type": "error",
     "traceback": [
      "\u001b[0;31m---------------------------------------------------------------------------\u001b[0m",
      "\u001b[0;31mRuntimeError\u001b[0m                              Traceback (most recent call last)",
      "\u001b[0;32m<ipython-input-337-7771f938f160>\u001b[0m in \u001b[0;36m<module>\u001b[0;34m()\u001b[0m\n\u001b[1;32m     14\u001b[0m \u001b[0moptimizer\u001b[0m \u001b[0;34m=\u001b[0m \u001b[0moptim\u001b[0m\u001b[0;34m.\u001b[0m\u001b[0mSGD\u001b[0m\u001b[0;34m(\u001b[0m\u001b[0mnet\u001b[0m\u001b[0;34m.\u001b[0m\u001b[0mparameters\u001b[0m\u001b[0;34m(\u001b[0m\u001b[0;34m)\u001b[0m\u001b[0;34m,\u001b[0m \u001b[0mlr\u001b[0m\u001b[0;34m=\u001b[0m\u001b[0;36m0.01\u001b[0m\u001b[0;34m)\u001b[0m\u001b[0;34m\u001b[0m\u001b[0m\n\u001b[1;32m     15\u001b[0m \u001b[0;34m\u001b[0m\u001b[0m\n\u001b[0;32m---> 16\u001b[0;31m \u001b[0mtrain\u001b[0m\u001b[0;34m(\u001b[0m\u001b[0mnet\u001b[0m\u001b[0;34m,\u001b[0m \u001b[0moptimizer\u001b[0m\u001b[0;34m,\u001b[0m \u001b[0mdata_loader\u001b[0m\u001b[0;34m,\u001b[0m \u001b[0;36m1\u001b[0m\u001b[0;34m,\u001b[0m \u001b[0;32mlambda\u001b[0m \u001b[0mx\u001b[0m\u001b[0;34m,\u001b[0m \u001b[0my\u001b[0m\u001b[0;34m:\u001b[0m \u001b[0mtorch\u001b[0m\u001b[0;34m.\u001b[0m\u001b[0mIntTensor\u001b[0m\u001b[0;34m(\u001b[0m\u001b[0;34m[\u001b[0m\u001b[0;36m0\u001b[0m\u001b[0;34m]\u001b[0m\u001b[0;34m)\u001b[0m\u001b[0;34m,\u001b[0m \u001b[0;36m10\u001b[0m\u001b[0;34m)\u001b[0m\u001b[0;34m\u001b[0m\u001b[0m\n\u001b[0m",
      "\u001b[0;32m<ipython-input-336-b131d2770e09>\u001b[0m in \u001b[0;36mtrain\u001b[0;34m(network, optimizer, data_loader, num_epoch, loss_fun, log_interval)\u001b[0m\n\u001b[1;32m      7\u001b[0m             \u001b[0moutput\u001b[0m \u001b[0;34m=\u001b[0m \u001b[0mnetwork\u001b[0m\u001b[0;34m(\u001b[0m\u001b[0mimg\u001b[0m\u001b[0;34m)\u001b[0m\u001b[0;34m\u001b[0m\u001b[0m\n\u001b[1;32m      8\u001b[0m             \u001b[0mloss\u001b[0m \u001b[0;34m=\u001b[0m \u001b[0mloss_fun\u001b[0m\u001b[0;34m(\u001b[0m\u001b[0moutput\u001b[0m\u001b[0;34m,\u001b[0m \u001b[0mannotations\u001b[0m\u001b[0;34m)\u001b[0m\u001b[0;34m\u001b[0m\u001b[0m\n\u001b[0;32m----> 9\u001b[0;31m             \u001b[0mloss\u001b[0m\u001b[0;34m.\u001b[0m\u001b[0mbackward\u001b[0m\u001b[0;34m(\u001b[0m\u001b[0;34m)\u001b[0m\u001b[0;34m\u001b[0m\u001b[0m\n\u001b[0m\u001b[1;32m     10\u001b[0m             \u001b[0moptimizer\u001b[0m\u001b[0;34m.\u001b[0m\u001b[0mstep\u001b[0m\u001b[0;34m(\u001b[0m\u001b[0;34m)\u001b[0m\u001b[0;34m\u001b[0m\u001b[0m\n\u001b[1;32m     11\u001b[0m \u001b[0;34m\u001b[0m\u001b[0m\n",
      "\u001b[0;32m/pio/os/anaconda/lib/python2.7/site-packages/torch/tensor.py\u001b[0m in \u001b[0;36mbackward\u001b[0;34m(self, gradient, retain_graph, create_graph)\u001b[0m\n\u001b[1;32m     91\u001b[0m                 \u001b[0mproducts\u001b[0m\u001b[0;34m.\u001b[0m \u001b[0mDefaults\u001b[0m \u001b[0mto\u001b[0m \u001b[0;34m`\u001b[0m\u001b[0;34m`\u001b[0m\u001b[0mFalse\u001b[0m\u001b[0;34m`\u001b[0m\u001b[0;34m`\u001b[0m\u001b[0;34m.\u001b[0m\u001b[0;34m\u001b[0m\u001b[0m\n\u001b[1;32m     92\u001b[0m         \"\"\"\n\u001b[0;32m---> 93\u001b[0;31m         \u001b[0mtorch\u001b[0m\u001b[0;34m.\u001b[0m\u001b[0mautograd\u001b[0m\u001b[0;34m.\u001b[0m\u001b[0mbackward\u001b[0m\u001b[0;34m(\u001b[0m\u001b[0mself\u001b[0m\u001b[0;34m,\u001b[0m \u001b[0mgradient\u001b[0m\u001b[0;34m,\u001b[0m \u001b[0mretain_graph\u001b[0m\u001b[0;34m,\u001b[0m \u001b[0mcreate_graph\u001b[0m\u001b[0;34m)\u001b[0m\u001b[0;34m\u001b[0m\u001b[0m\n\u001b[0m\u001b[1;32m     94\u001b[0m \u001b[0;34m\u001b[0m\u001b[0m\n\u001b[1;32m     95\u001b[0m     \u001b[0;32mdef\u001b[0m \u001b[0mregister_hook\u001b[0m\u001b[0;34m(\u001b[0m\u001b[0mself\u001b[0m\u001b[0;34m,\u001b[0m \u001b[0mhook\u001b[0m\u001b[0;34m)\u001b[0m\u001b[0;34m:\u001b[0m\u001b[0;34m\u001b[0m\u001b[0m\n",
      "\u001b[0;32m/pio/os/anaconda/lib/python2.7/site-packages/torch/autograd/__init__.py\u001b[0m in \u001b[0;36mbackward\u001b[0;34m(tensors, grad_tensors, retain_graph, create_graph, grad_variables)\u001b[0m\n\u001b[1;32m     87\u001b[0m     Variable._execution_engine.run_backward(\n\u001b[1;32m     88\u001b[0m         \u001b[0mtensors\u001b[0m\u001b[0;34m,\u001b[0m \u001b[0mgrad_tensors\u001b[0m\u001b[0;34m,\u001b[0m \u001b[0mretain_graph\u001b[0m\u001b[0;34m,\u001b[0m \u001b[0mcreate_graph\u001b[0m\u001b[0;34m,\u001b[0m\u001b[0;34m\u001b[0m\u001b[0m\n\u001b[0;32m---> 89\u001b[0;31m         allow_unreachable=True)  # allow_unreachable flag\n\u001b[0m\u001b[1;32m     90\u001b[0m \u001b[0;34m\u001b[0m\u001b[0m\n\u001b[1;32m     91\u001b[0m \u001b[0;34m\u001b[0m\u001b[0m\n",
      "\u001b[0;31mRuntimeError\u001b[0m: element 0 of tensors does not require grad and does not have a grad_fn"
     ]
    }
   ],
   "source": [
    "from  torch.utils.data import DataLoader\n",
    "import torch.optim as optim\n",
    "\n",
    "# GLOBALS #\n",
    "data_loader_globals = { 'batch_size':1, \n",
    "           'shuffle':True, \n",
    "           'num_workers':1, \n",
    "           'pin_memory':False}\n",
    "###########\n",
    "\n",
    "data_set = MpiiHumanPoseDataset('images', 'mpii_human_pose_v1_u12_2/mpii_human_pose_v1_u12_1.mat')\n",
    "data_loader = DataLoader(data_set, **data_loader_globals)\n",
    "net = PoseFittingNetwork()\n",
    "optimizer = optim.SGD(net.parameters(), lr=0.01)\n",
    "\n",
    "train(net, optimizer, data_loader, 1, lambda x, y: torch.IntTensor([0]), 10)"
   ]
  }
 ],
 "metadata": {
  "kernelspec": {
   "display_name": "Python 2",
   "language": "python",
   "name": "python2"
  },
  "language_info": {
   "codemirror_mode": {
    "name": "ipython",
    "version": 2
   },
   "file_extension": ".py",
   "mimetype": "text/x-python",
   "name": "python",
   "nbconvert_exporter": "python",
   "pygments_lexer": "ipython2",
   "version": "2.7.14"
  }
 },
 "nbformat": 4,
 "nbformat_minor": 2
}
